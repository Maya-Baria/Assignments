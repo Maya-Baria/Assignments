{
 "cells": [
  {
   "cell_type": "markdown",
   "id": "669125df",
   "metadata": {
    "id": "XHvoVqK5mYA-"
   },
   "source": [
    "# <center>Pandas Assignment</center>"
   ]
  },
  {
   "cell_type": "markdown",
   "id": "6d86036a",
   "metadata": {
    "id": "v9Qb2_aumYBF"
   },
   "source": [
    "Import pandas and numpy with their aliases"
   ]
  },
  {
   "cell_type": "code",
   "execution_count": 1,
   "id": "4403d5ca",
   "metadata": {
    "id": "ihFP1wXZmYBF"
   },
   "outputs": [],
   "source": [
    "import pandas as pd\n",
    "import numpy as np\n",
    "\n"
   ]
  },
  {
   "cell_type": "markdown",
   "id": "91c9cb55",
   "metadata": {
    "id": "0b8hUBhTmYBG"
   },
   "source": [
    "Create a variable a = pd.Series([ 100, 200, 300, 400])"
   ]
  },
  {
   "cell_type": "code",
   "execution_count": 2,
   "id": "0545095d",
   "metadata": {
    "id": "hzvzkbNYmYBH"
   },
   "outputs": [],
   "source": [
    "a = pd.Series([ 100, 200, 300, 400])\n",
    "\n",
    "\n"
   ]
  },
  {
   "cell_type": "markdown",
   "id": "cffa6304",
   "metadata": {
    "id": "BSyNFbitmYBH"
   },
   "source": [
    "Print a, and data type"
   ]
  },
  {
   "cell_type": "code",
   "execution_count": 3,
   "id": "0091763c",
   "metadata": {
    "id": "GMmFsjPamYBH",
    "outputId": "e21bf8f8-3d7a-4ec6-ea93-7885f9b0a648"
   },
   "outputs": [
    {
     "name": "stdout",
     "output_type": "stream",
     "text": [
      "0    100\n",
      "1    200\n",
      "2    300\n",
      "3    400\n",
      "dtype: int64\n"
     ]
    },
    {
     "data": {
      "text/plain": [
       "pandas.core.series.Series"
      ]
     },
     "execution_count": 3,
     "metadata": {},
     "output_type": "execute_result"
    }
   ],
   "source": [
    "print(a)\n",
    "type(a)\n",
    "\n",
    "\n"
   ]
  },
  {
   "cell_type": "markdown",
   "id": "9a2775ed",
   "metadata": {
    "id": "z0FryxOXmYBI"
   },
   "source": [
    "Using indexing access the element 300 from the series a."
   ]
  },
  {
   "cell_type": "code",
   "execution_count": 4,
   "id": "251072b7",
   "metadata": {
    "id": "wERTsh-4mYBJ",
    "outputId": "de60a58f-c084-4955-ab6e-b453f6280c98"
   },
   "outputs": [
    {
     "name": "stdout",
     "output_type": "stream",
     "text": [
      "300\n"
     ]
    }
   ],
   "source": [
    "Element_300 = a[2]\n",
    "print(Element_300)\n"
   ]
  },
  {
   "cell_type": "markdown",
   "id": "99c52bd9",
   "metadata": {
    "id": "HHEKyOtemYBJ"
   },
   "source": [
    "What are the values of index for series a?"
   ]
  },
  {
   "cell_type": "code",
   "execution_count": 5,
   "id": "6eb8181a",
   "metadata": {
    "id": "uQOnSJQ4mYBJ",
    "outputId": "de695171-b817-4495-bf3b-be91ade7c7c4"
   },
   "outputs": [
    {
     "data": {
      "text/plain": [
       "RangeIndex(start=0, stop=4, step=1)"
      ]
     },
     "execution_count": 5,
     "metadata": {},
     "output_type": "execute_result"
    }
   ],
   "source": [
    "index_a = a.index\n",
    "index_a\n"
   ]
  },
  {
   "cell_type": "markdown",
   "id": "901f200a",
   "metadata": {
    "id": "EuFjG74wmYBJ"
   },
   "source": [
    "Change the index to  ['c', 'a', 'b', 'd']"
   ]
  },
  {
   "cell_type": "code",
   "execution_count": 6,
   "id": "e00940ec",
   "metadata": {
    "id": "1ueAAFiJmYBK",
    "outputId": "cc9737be-1c56-4b92-febb-ad609f07e14a"
   },
   "outputs": [
    {
     "name": "stdout",
     "output_type": "stream",
     "text": [
      "c    100\n",
      "a    200\n",
      "b    300\n",
      "d    400\n",
      "dtype: int64\n"
     ]
    }
   ],
   "source": [
    "a.index = ['c', 'a', 'b', 'd']\n",
    "print(a)\n",
    "\n"
   ]
  },
  {
   "cell_type": "markdown",
   "id": "f3d41764",
   "metadata": {
    "id": "ZdZLyRO7mYBK"
   },
   "source": [
    "Access the value in the series with index 'd'"
   ]
  },
  {
   "cell_type": "code",
   "execution_count": 7,
   "id": "febd48eb",
   "metadata": {
    "id": "oN1ce3GymYBK",
    "outputId": "cba39f6a-cd4d-4934-b5cf-49cafd4ddc31"
   },
   "outputs": [
    {
     "data": {
      "text/plain": [
       "400"
      ]
     },
     "execution_count": 7,
     "metadata": {},
     "output_type": "execute_result"
    }
   ],
   "source": [
    "d_value = a['d']\n",
    "d_value\n"
   ]
  },
  {
   "cell_type": "markdown",
   "id": "08bb4116",
   "metadata": {
    "id": "eQSGwKtFmYBK"
   },
   "source": [
    "Sort the values wrt to the index and print it"
   ]
  },
  {
   "cell_type": "code",
   "execution_count": 8,
   "id": "10f2f3b5",
   "metadata": {
    "id": "-arvricBmYBL",
    "outputId": "f1286103-c02c-4ee2-e25f-f8b0d8215198"
   },
   "outputs": [
    {
     "data": {
      "text/plain": [
       "a    200\n",
       "b    300\n",
       "c    100\n",
       "d    400\n",
       "dtype: int64"
      ]
     },
     "execution_count": 8,
     "metadata": {},
     "output_type": "execute_result"
    }
   ],
   "source": [
    "sort_index = a.sort_index()\n",
    "sort_index\n",
    "\n",
    "\n"
   ]
  },
  {
   "cell_type": "markdown",
   "id": "162f1663",
   "metadata": {
    "id": "g-fXVSK2mYBL"
   },
   "source": [
    "Create a new Pandas Series b having index as 'e', 'f', and 'g' and value 800,450,100 and print it"
   ]
  },
  {
   "cell_type": "code",
   "execution_count": 9,
   "id": "61c862f2",
   "metadata": {
    "id": "fAg_rI3hmYBL",
    "outputId": "0bf9ddea-64c2-402a-f129-cd640ffec5b2"
   },
   "outputs": [
    {
     "data": {
      "text/html": [
       "<div>\n",
       "<style scoped>\n",
       "    .dataframe tbody tr th:only-of-type {\n",
       "        vertical-align: middle;\n",
       "    }\n",
       "\n",
       "    .dataframe tbody tr th {\n",
       "        vertical-align: top;\n",
       "    }\n",
       "\n",
       "    .dataframe thead th {\n",
       "        text-align: right;\n",
       "    }\n",
       "</style>\n",
       "<table border=\"1\" class=\"dataframe\">\n",
       "  <thead>\n",
       "    <tr style=\"text-align: right;\">\n",
       "      <th></th>\n",
       "      <th>value</th>\n",
       "    </tr>\n",
       "    <tr>\n",
       "      <th>index</th>\n",
       "      <th></th>\n",
       "    </tr>\n",
       "  </thead>\n",
       "  <tbody>\n",
       "    <tr>\n",
       "      <th>e</th>\n",
       "      <td>800</td>\n",
       "    </tr>\n",
       "    <tr>\n",
       "      <th>f</th>\n",
       "      <td>450</td>\n",
       "    </tr>\n",
       "    <tr>\n",
       "      <th>g</th>\n",
       "      <td>100</td>\n",
       "    </tr>\n",
       "  </tbody>\n",
       "</table>\n",
       "</div>"
      ],
      "text/plain": [
       "       value\n",
       "index       \n",
       "e        800\n",
       "f        450\n",
       "g        100"
      ]
     },
     "execution_count": 9,
     "metadata": {},
     "output_type": "execute_result"
    }
   ],
   "source": [
    " b = pd.DataFrame({'index': ['e','f','g'],\n",
    "                 'value': [800,450,100]})\n",
    "b.set_index('index', inplace=True)\n",
    "\n",
    "\n",
    "b\n",
    "\n"
   ]
  },
  {
   "cell_type": "markdown",
   "id": "e67c347b",
   "metadata": {
    "id": "jWhRRtF1mYBL"
   },
   "source": [
    "Append b series at the end of a series"
   ]
  },
  {
   "cell_type": "code",
   "execution_count": 10,
   "id": "a3643bce",
   "metadata": {
    "id": "TBV8hkRXmYBL"
   },
   "outputs": [],
   "source": [
    "a_append = pd.concat([a,b['value']])\n",
    "a = a_append\n"
   ]
  },
  {
   "cell_type": "code",
   "execution_count": 11,
   "id": "faacc696",
   "metadata": {
    "id": "Xfm5WgBYmYBM",
    "outputId": "45dbeb71-cdd2-46ac-8b76-947f9e4eab54"
   },
   "outputs": [
    {
     "name": "stdout",
     "output_type": "stream",
     "text": [
      "c    100\n",
      "a    200\n",
      "b    300\n",
      "d    400\n",
      "e    800\n",
      "f    450\n",
      "g    100\n",
      "dtype: int64\n"
     ]
    }
   ],
   "source": [
    "#print a again after appending b into it\n",
    "\n",
    "print(a)\n",
    "\n"
   ]
  },
  {
   "cell_type": "markdown",
   "id": "9152c5a8",
   "metadata": {
    "id": "6lz_BR0umYBM"
   },
   "source": [
    "Sort the values in descending order of a and print the index of the sorted series"
   ]
  },
  {
   "cell_type": "code",
   "execution_count": 12,
   "id": "9f52b291",
   "metadata": {
    "id": "5srJV0y0mYBM"
   },
   "outputs": [
    {
     "data": {
      "text/plain": [
       "e    800\n",
       "f    450\n",
       "d    400\n",
       "b    300\n",
       "a    200\n",
       "c    100\n",
       "g    100\n",
       "dtype: int64"
      ]
     },
     "execution_count": 12,
     "metadata": {},
     "output_type": "execute_result"
    }
   ],
   "source": [
    "sort_value_a =  a.sort_values(ascending=False)\n",
    "sort_value_a\n",
    "#sort_value_a.index"
   ]
  },
  {
   "cell_type": "code",
   "execution_count": null,
   "id": "a588d704",
   "metadata": {
    "id": "9OxmwQRAmYBM",
    "outputId": "d5a2ecdc-aca2-42da-ed66-18102af915bc"
   },
   "outputs": [],
   "source": [
    "\n",
    "\n"
   ]
  },
  {
   "cell_type": "markdown",
   "id": "8c940e55",
   "metadata": {
    "id": "OQ5gj4romYBM"
   },
   "source": [
    "## Pandas DataFrame"
   ]
  },
  {
   "cell_type": "markdown",
   "id": "93384c0d",
   "metadata": {
    "id": "tD7de_2amYBM"
   },
   "source": [
    "### Part 1"
   ]
  },
  {
   "cell_type": "markdown",
   "id": "c54ba0ab",
   "metadata": {
    "id": "z_nAQa4BmYBN"
   },
   "source": [
    "Create a pandas dataframe df from the series 'a' that we used in the last section, print the dataframe"
   ]
  },
  {
   "cell_type": "code",
   "execution_count": 13,
   "id": "f64601b4",
   "metadata": {
    "id": "ojD-B6FvmYBN",
    "outputId": "628c307e-fe67-471b-9ff6-e1167f0e9529"
   },
   "outputs": [],
   "source": [
    " df = pd.Series(a)"
   ]
  },
  {
   "cell_type": "code",
   "execution_count": 14,
   "id": "f8f46376",
   "metadata": {
    "id": "2r2SyCYNmYBN"
   },
   "outputs": [
    {
     "data": {
      "text/plain": [
       "(7,)"
      ]
     },
     "execution_count": 14,
     "metadata": {},
     "output_type": "execute_result"
    }
   ],
   "source": [
    "df.shape"
   ]
  },
  {
   "cell_type": "markdown",
   "id": "0e6ff944",
   "metadata": {
    "id": "yzrIH3irmYBN"
   },
   "source": [
    "What is the shape of the datafarme <br>\n",
    "(also, what does it imply?)"
   ]
  },
  {
   "cell_type": "code",
   "execution_count": 15,
   "id": "b90b106c",
   "metadata": {
    "id": "aFo5tNrVmYBN",
    "outputId": "f3145f5e-75b2-4bf0-87f3-07c405845ad4"
   },
   "outputs": [],
   "source": [
    "# 4 rows and 2 columns\n",
    "\n",
    "\n"
   ]
  },
  {
   "cell_type": "markdown",
   "id": "0941bf2c",
   "metadata": {
    "id": "Dl0Hr0LSmYBO"
   },
   "source": [
    "Hey! remember shape (7,1) implies dataframe has 7 rows and 1 column. "
   ]
  },
  {
   "cell_type": "markdown",
   "id": "9731db0d",
   "metadata": {
    "id": "hwcaXl43mYBO"
   },
   "source": [
    "What is the index of the dataframe, is it same as the series 'a' "
   ]
  },
  {
   "cell_type": "code",
   "execution_count": 16,
   "id": "fcc45a7f",
   "metadata": {
    "id": "1-gMxT-emYBO",
    "outputId": "25df79a2-b1c6-45af-b179-53b79fe23fcd"
   },
   "outputs": [
    {
     "data": {
      "text/plain": [
       "Index(['c', 'a', 'b', 'd', 'e', 'f', 'g'], dtype='object')"
      ]
     },
     "execution_count": 16,
     "metadata": {},
     "output_type": "execute_result"
    }
   ],
   "source": [
    "# yep its same as the series.\n",
    "df.index\n"
   ]
  },
  {
   "cell_type": "markdown",
   "id": "3fbb08e6",
   "metadata": {
    "id": "C5wadnBymYBO"
   },
   "source": [
    "print the head and tail of the dataframe. <br>\n",
    "Additional - (what does head and tali represent?)"
   ]
  },
  {
   "cell_type": "code",
   "execution_count": 17,
   "id": "5e1068f2",
   "metadata": {
    "id": "U2vxYrPnmYBO",
    "outputId": "7f439669-2345-46f9-f46e-d134fb09bbd7"
   },
   "outputs": [
    {
     "data": {
      "text/plain": [
       "b    300\n",
       "d    400\n",
       "e    800\n",
       "f    450\n",
       "g    100\n",
       "dtype: int64"
      ]
     },
     "execution_count": 17,
     "metadata": {},
     "output_type": "execute_result"
    }
   ],
   "source": [
    "df.head()\n",
    "df.tail()\n"
   ]
  },
  {
   "cell_type": "code",
   "execution_count": 18,
   "id": "fe741cf7",
   "metadata": {
    "id": "nikOdGC_mYBO",
    "outputId": "2ab575b8-468b-4fbe-a6fa-80a607a83857"
   },
   "outputs": [],
   "source": [
    "# df_a.head() gives first 5 rows from the data frame\n",
    "# df_a.tail() gives last 5 rows from the data frame\n",
    "\n"
   ]
  },
  {
   "cell_type": "markdown",
   "id": "279b46b2",
   "metadata": {
    "id": "Ci2tiwbBmYBO"
   },
   "source": [
    "Rename the column of the dataframe as 'points'"
   ]
  },
  {
   "cell_type": "code",
   "execution_count": 19,
   "id": "53b1d16c",
   "metadata": {
    "id": "K3OsbVD3mYBP",
    "outputId": "f49057a3-e48a-4124-c1f9-3ccdf264dbf3"
   },
   "outputs": [
    {
     "data": {
      "text/plain": [
       "c    100\n",
       "a    200\n",
       "b    300\n",
       "d    400\n",
       "e    800\n",
       "f    450\n",
       "g    100\n",
       "dtype: int64"
      ]
     },
     "execution_count": 19,
     "metadata": {},
     "output_type": "execute_result"
    }
   ],
   "source": [
    "\n",
    "df.columns = ['index', 'points']\n",
    "\n",
    "df"
   ]
  },
  {
   "cell_type": "markdown",
   "id": "031f8780",
   "metadata": {
    "id": "bBV0VfzzmYBP"
   },
   "source": [
    "Create another Series 'fruits', which contains random names of fruits from ['orange','mango','apple']. The series should contain 7 elements, randomly selected from ['orange','mango','apple']"
   ]
  },
  {
   "cell_type": "code",
   "execution_count": 20,
   "id": "b03883ea",
   "metadata": {
    "id": "baUmpsuhmYBP",
    "outputId": "8cbe922c-d257-4587-a7ff-93de58af7c0e"
   },
   "outputs": [
    {
     "data": {
      "text/plain": [
       "0    orange\n",
       "1     mango\n",
       "2     apple\n",
       "3    orange\n",
       "4     mango\n",
       "5     apple\n",
       "6     mango\n",
       "dtype: object"
      ]
     },
     "execution_count": 20,
     "metadata": {},
     "output_type": "execute_result"
    }
   ],
   "source": [
    "#Create fruits array\n",
    "\n",
    "fruits = pd.Series([\"orange\", \"mango\", \"apple\",\"orange\", \"mango\", \"apple\",\"mango\"])\n",
    "\n",
    "fruits"
   ]
  },
  {
   "cell_type": "code",
   "execution_count": 21,
   "id": "dacd7ed5",
   "metadata": {
    "id": "QrbnjM8FmYBP",
    "outputId": "f7d318ae-c463-4a03-fb32-466034a5073b"
   },
   "outputs": [
    {
     "data": {
      "text/plain": [
       "array(['orange', 'mango', 'apple', 'orange', 'mango', 'apple', 'mango'],\n",
       "      dtype='<U6')"
      ]
     },
     "execution_count": 21,
     "metadata": {},
     "output_type": "execute_result"
    }
   ],
   "source": [
    "#Create series fruits out of fruits array\n",
    "\n",
    "fruits_array = np.array([\"orange\", \"mango\", \"apple\",\"orange\", \"mango\", \"apple\",\"mango\"])\n",
    "fruits_array\n",
    "\n"
   ]
  },
  {
   "cell_type": "markdown",
   "id": "3f2da15e",
   "metadata": {
    "id": "20slMbq5mYBP"
   },
   "source": [
    "Change the index of fruits to the index of dataframe df"
   ]
  },
  {
   "cell_type": "code",
   "execution_count": 22,
   "id": "32d94173",
   "metadata": {
    "id": "1n4THBgkmYBQ",
    "outputId": "6ca845e1-a58b-4a40-d18d-8a59a62a7f8f"
   },
   "outputs": [
    {
     "data": {
      "text/plain": [
       "c    orange\n",
       "a     mango\n",
       "b     apple\n",
       "d    orange\n",
       "e     mango\n",
       "f     apple\n",
       "g     mango\n",
       "dtype: object"
      ]
     },
     "execution_count": 22,
     "metadata": {},
     "output_type": "execute_result"
    }
   ],
   "source": [
    "fruits.index = df.index\n",
    "\n",
    "fruits\n",
    "\n",
    "\n"
   ]
  },
  {
   "cell_type": "markdown",
   "id": "7d720fa6",
   "metadata": {
    "id": "oPv8dJ_2mYBQ"
   },
   "source": [
    "Add this fruits series as a new column to the dataframe df with its column name as 'fruits'\n",
    "<br>print the head of the dataframe to verify"
   ]
  },
  {
   "cell_type": "code",
   "execution_count": 23,
   "id": "967524a1",
   "metadata": {
    "id": "tit_GDscmYBQ",
    "outputId": "a2d0549f-2846-4331-c159-2f76af6fe9e2"
   },
   "outputs": [
    {
     "data": {
      "text/html": [
       "<div>\n",
       "<style scoped>\n",
       "    .dataframe tbody tr th:only-of-type {\n",
       "        vertical-align: middle;\n",
       "    }\n",
       "\n",
       "    .dataframe tbody tr th {\n",
       "        vertical-align: top;\n",
       "    }\n",
       "\n",
       "    .dataframe thead th {\n",
       "        text-align: right;\n",
       "    }\n",
       "</style>\n",
       "<table border=\"1\" class=\"dataframe\">\n",
       "  <thead>\n",
       "    <tr style=\"text-align: right;\">\n",
       "      <th></th>\n",
       "      <th>fruits</th>\n",
       "    </tr>\n",
       "  </thead>\n",
       "  <tbody>\n",
       "    <tr>\n",
       "      <th>0</th>\n",
       "      <td>orange</td>\n",
       "    </tr>\n",
       "    <tr>\n",
       "      <th>1</th>\n",
       "      <td>mango</td>\n",
       "    </tr>\n",
       "    <tr>\n",
       "      <th>2</th>\n",
       "      <td>apple</td>\n",
       "    </tr>\n",
       "    <tr>\n",
       "      <th>3</th>\n",
       "      <td>orange</td>\n",
       "    </tr>\n",
       "    <tr>\n",
       "      <th>4</th>\n",
       "      <td>mango</td>\n",
       "    </tr>\n",
       "    <tr>\n",
       "      <th>5</th>\n",
       "      <td>apple</td>\n",
       "    </tr>\n",
       "    <tr>\n",
       "      <th>6</th>\n",
       "      <td>mango</td>\n",
       "    </tr>\n",
       "  </tbody>\n",
       "</table>\n",
       "</div>"
      ],
      "text/plain": [
       "   fruits\n",
       "0  orange\n",
       "1   mango\n",
       "2   apple\n",
       "3  orange\n",
       "4   mango\n",
       "5   apple\n",
       "6   mango"
      ]
     },
     "execution_count": 23,
     "metadata": {},
     "output_type": "execute_result"
    }
   ],
   "source": [
    "\n",
    "fruits = pd.DataFrame({\"fruits\": [\"orange\", \"mango\", \"apple\",\"orange\", \"mango\", \"apple\",\"mango\"]})\n",
    "fruits\n",
    "\n"
   ]
  },
  {
   "cell_type": "code",
   "execution_count": null,
   "id": "9d6314f0",
   "metadata": {
    "id": "X3A6oKUXmYBQ",
    "outputId": "230256fe-9ef4-413a-913f-bd389ac35402"
   },
   "outputs": [],
   "source": [
    "\n",
    "\n",
    "\n",
    "\n"
   ]
  },
  {
   "cell_type": "markdown",
   "id": "a61ab79c",
   "metadata": {
    "id": "ACsvenslmYBQ"
   },
   "source": [
    "## Pandas Concatenation"
   ]
  },
  {
   "cell_type": "markdown",
   "id": "8bf7611a",
   "metadata": {
    "id": "cwgg82N0mYBQ"
   },
   "source": [
    "Create a dataframe  d1 where the cols are  ‘city’ : [‘Chandigarh’, ‘Delhi’, ‘Kanpur’, ‘Chennai’, ‘Manali’ ] and ‘Temperature’ : [15, 22, 20, 26,-2] "
   ]
  },
  {
   "cell_type": "code",
   "execution_count": 24,
   "id": "4028dc44",
   "metadata": {
    "id": "09tWwU18mYBR"
   },
   "outputs": [],
   "source": [
    "d1 = pd.DataFrame({\"city\" :['Chandigarh', \"Delhi\", \"Kanpur\", \"Chennai\", \"Manali\" ],\n",
    "                  \"Temperature\" : [15, 22, 20, 26,-2]})\n",
    "\n",
    "\n"
   ]
  },
  {
   "cell_type": "markdown",
   "id": "4d11ce6a",
   "metadata": {
    "id": "XAquuUx_mYBR"
   },
   "source": [
    "Print(d1)"
   ]
  },
  {
   "cell_type": "code",
   "execution_count": 25,
   "id": "f4c36e8a",
   "metadata": {
    "id": "tEaf6dUVmYBR",
    "outputId": "02dd1795-381a-4d83-c8cc-37e15c066de8"
   },
   "outputs": [
    {
     "name": "stdout",
     "output_type": "stream",
     "text": [
      "         city  Temperature\n",
      "0  Chandigarh           15\n",
      "1       Delhi           22\n",
      "2      Kanpur           20\n",
      "3     Chennai           26\n",
      "4      Manali           -2\n"
     ]
    }
   ],
   "source": [
    "print(d1)\n",
    "\n",
    "\n"
   ]
  },
  {
   "cell_type": "markdown",
   "id": "841d23ea",
   "metadata": {
    "id": "YmZ9u-4FmYBR"
   },
   "source": [
    "What is the shape of d1."
   ]
  },
  {
   "cell_type": "code",
   "execution_count": 26,
   "id": "7bd2bbd7",
   "metadata": {
    "id": "upPyfWR7mYBR",
    "outputId": "578b226c-493a-4e62-eb42-f29196452acf"
   },
   "outputs": [
    {
     "data": {
      "text/plain": [
       "(5, 2)"
      ]
     },
     "execution_count": 26,
     "metadata": {},
     "output_type": "execute_result"
    }
   ],
   "source": [
    "d1.shape\n",
    "\n",
    "\n"
   ]
  },
  {
   "cell_type": "markdown",
   "id": "dfe5b4d6",
   "metadata": {
    "id": "JtBQ5SLtmYBS"
   },
   "source": [
    "Set city = d1['city']"
   ]
  },
  {
   "cell_type": "code",
   "execution_count": 27,
   "id": "4ef9452f",
   "metadata": {
    "id": "mzE78QzrmYBS"
   },
   "outputs": [
    {
     "data": {
      "text/plain": [
       "0    Chandigarh\n",
       "1         Delhi\n",
       "2        Kanpur\n",
       "3       Chennai\n",
       "4        Manali\n",
       "Name: city, dtype: object"
      ]
     },
     "execution_count": 27,
     "metadata": {},
     "output_type": "execute_result"
    }
   ],
   "source": [
    "d1['city']\n",
    "\n",
    "\n"
   ]
  },
  {
   "cell_type": "markdown",
   "id": "2406a006",
   "metadata": {
    "id": "WubWnFIcmYBS"
   },
   "source": [
    "print city <br>\n",
    "What is the type of city."
   ]
  },
  {
   "cell_type": "code",
   "execution_count": 28,
   "id": "6c82e106",
   "metadata": {
    "id": "6d4EjYTemYBS",
    "outputId": "013b3d5f-4f17-45ca-bdbc-7c4f5166df33"
   },
   "outputs": [
    {
     "name": "stdout",
     "output_type": "stream",
     "text": [
      "0    Chandigarh\n",
      "1         Delhi\n",
      "2        Kanpur\n",
      "3       Chennai\n",
      "4        Manali\n",
      "Name: city, dtype: object\n"
     ]
    },
    {
     "data": {
      "text/plain": [
       "pandas.core.series.Series"
      ]
     },
     "execution_count": 28,
     "metadata": {},
     "output_type": "execute_result"
    }
   ],
   "source": [
    "print(d1['city'])\n",
    "type(d1['city'])\n",
    "\n"
   ]
  },
  {
   "cell_type": "markdown",
   "id": "0a27de6a",
   "metadata": {
    "id": "uUdrLgg6mYBS"
   },
   "source": [
    "Create another datafeame 'd2' where the columns are <br>\n",
    "'city' - ['Bengalaru','Coimbatore','Srirangam','Pondicherry'] <br>\n",
    "'Temperature' - [24,35,36,39]"
   ]
  },
  {
   "cell_type": "code",
   "execution_count": 29,
   "id": "b36ca5b5",
   "metadata": {
    "id": "CFBCGcvhmYBS",
    "outputId": "fc5089d3-dfb0-438a-b654-920f5d5dac5d"
   },
   "outputs": [],
   "source": [
    " d2 = pd.DataFrame({'city' : ['Bengalaru','Coimbatore','Srirangam','Pondicherry'],\n",
    "'Temperature' : [24,35,36,39]})\n",
    "\n",
    "\n",
    "\n"
   ]
  },
  {
   "cell_type": "markdown",
   "id": "19922f9b",
   "metadata": {
    "id": "HivVdLN5mYBT"
   },
   "source": [
    "print the shape of this dataframe"
   ]
  },
  {
   "cell_type": "code",
   "execution_count": 30,
   "id": "e5c5268d",
   "metadata": {
    "id": "9FFgtQJhmYBT",
    "outputId": "e2f88a69-e913-4b37-c118-8e6b3f9153c7"
   },
   "outputs": [
    {
     "name": "stdout",
     "output_type": "stream",
     "text": [
      "          city  Temperature\n",
      "0    Bengalaru           24\n",
      "1   Coimbatore           35\n",
      "2    Srirangam           36\n",
      "3  Pondicherry           39\n"
     ]
    }
   ],
   "source": [
    "print(d2)\n"
   ]
  },
  {
   "cell_type": "markdown",
   "id": "5ae48c4f",
   "metadata": {
    "id": "UK38h5ktmYBT"
   },
   "source": [
    "merge the two dataframes together, save it in a new dataframe named 'd3'"
   ]
  },
  {
   "cell_type": "code",
   "execution_count": 31,
   "id": "4f7fac90",
   "metadata": {
    "id": "GMbOPfjCmYBT",
    "outputId": "66c2b828-c00a-4393-c49c-68057f447fb2"
   },
   "outputs": [
    {
     "data": {
      "text/html": [
       "<div>\n",
       "<style scoped>\n",
       "    .dataframe tbody tr th:only-of-type {\n",
       "        vertical-align: middle;\n",
       "    }\n",
       "\n",
       "    .dataframe tbody tr th {\n",
       "        vertical-align: top;\n",
       "    }\n",
       "\n",
       "    .dataframe thead th {\n",
       "        text-align: right;\n",
       "    }\n",
       "</style>\n",
       "<table border=\"1\" class=\"dataframe\">\n",
       "  <thead>\n",
       "    <tr style=\"text-align: right;\">\n",
       "      <th></th>\n",
       "      <th>city</th>\n",
       "      <th>Temperature</th>\n",
       "    </tr>\n",
       "  </thead>\n",
       "  <tbody>\n",
       "    <tr>\n",
       "      <th>0</th>\n",
       "      <td>Chandigarh</td>\n",
       "      <td>15</td>\n",
       "    </tr>\n",
       "    <tr>\n",
       "      <th>1</th>\n",
       "      <td>Delhi</td>\n",
       "      <td>22</td>\n",
       "    </tr>\n",
       "    <tr>\n",
       "      <th>2</th>\n",
       "      <td>Kanpur</td>\n",
       "      <td>20</td>\n",
       "    </tr>\n",
       "    <tr>\n",
       "      <th>3</th>\n",
       "      <td>Chennai</td>\n",
       "      <td>26</td>\n",
       "    </tr>\n",
       "    <tr>\n",
       "      <th>4</th>\n",
       "      <td>Manali</td>\n",
       "      <td>-2</td>\n",
       "    </tr>\n",
       "    <tr>\n",
       "      <th>0</th>\n",
       "      <td>Bengalaru</td>\n",
       "      <td>24</td>\n",
       "    </tr>\n",
       "    <tr>\n",
       "      <th>1</th>\n",
       "      <td>Coimbatore</td>\n",
       "      <td>35</td>\n",
       "    </tr>\n",
       "    <tr>\n",
       "      <th>2</th>\n",
       "      <td>Srirangam</td>\n",
       "      <td>36</td>\n",
       "    </tr>\n",
       "    <tr>\n",
       "      <th>3</th>\n",
       "      <td>Pondicherry</td>\n",
       "      <td>39</td>\n",
       "    </tr>\n",
       "  </tbody>\n",
       "</table>\n",
       "</div>"
      ],
      "text/plain": [
       "          city  Temperature\n",
       "0   Chandigarh           15\n",
       "1        Delhi           22\n",
       "2       Kanpur           20\n",
       "3      Chennai           26\n",
       "4       Manali           -2\n",
       "0    Bengalaru           24\n",
       "1   Coimbatore           35\n",
       "2    Srirangam           36\n",
       "3  Pondicherry           39"
      ]
     },
     "execution_count": 31,
     "metadata": {},
     "output_type": "execute_result"
    }
   ],
   "source": [
    "d3 = pd.concat([d1,d2])\n",
    "d3\n",
    "\n",
    "\n"
   ]
  },
  {
   "cell_type": "markdown",
   "id": "73dd1bfc",
   "metadata": {
    "id": "1dGlNGzjmYBT"
   },
   "source": [
    "Select the part of the dataframe such that it contains cities wherer temp is less then or equal to 20 <br>\n",
    "How many cities are there? "
   ]
  },
  {
   "cell_type": "code",
   "execution_count": 32,
   "id": "e218af0d",
   "metadata": {
    "id": "1vtC2UkgmYBT",
    "outputId": "629b26f6-140b-4f57-c794-2202d80300b2"
   },
   "outputs": [
    {
     "data": {
      "text/html": [
       "<div>\n",
       "<style scoped>\n",
       "    .dataframe tbody tr th:only-of-type {\n",
       "        vertical-align: middle;\n",
       "    }\n",
       "\n",
       "    .dataframe tbody tr th {\n",
       "        vertical-align: top;\n",
       "    }\n",
       "\n",
       "    .dataframe thead th {\n",
       "        text-align: right;\n",
       "    }\n",
       "</style>\n",
       "<table border=\"1\" class=\"dataframe\">\n",
       "  <thead>\n",
       "    <tr style=\"text-align: right;\">\n",
       "      <th></th>\n",
       "      <th>city</th>\n",
       "      <th>Temperature</th>\n",
       "    </tr>\n",
       "  </thead>\n",
       "  <tbody>\n",
       "    <tr>\n",
       "      <th>0</th>\n",
       "      <td>Chandigarh</td>\n",
       "      <td>15</td>\n",
       "    </tr>\n",
       "    <tr>\n",
       "      <th>2</th>\n",
       "      <td>Kanpur</td>\n",
       "      <td>20</td>\n",
       "    </tr>\n",
       "    <tr>\n",
       "      <th>4</th>\n",
       "      <td>Manali</td>\n",
       "      <td>-2</td>\n",
       "    </tr>\n",
       "  </tbody>\n",
       "</table>\n",
       "</div>"
      ],
      "text/plain": [
       "         city  Temperature\n",
       "0  Chandigarh           15\n",
       "2      Kanpur           20\n",
       "4      Manali           -2"
      ]
     },
     "execution_count": 32,
     "metadata": {},
     "output_type": "execute_result"
    }
   ],
   "source": [
    "d3[d3[\"Temperature\"] <= 20]\n",
    "\n"
   ]
  },
  {
   "cell_type": "markdown",
   "id": "8646a1a6",
   "metadata": {
    "id": "82QIQRQUmYBT"
   },
   "source": [
    "Select the part of the dataframe such that it contains the cities where tempearature greater than or equal to 35"
   ]
  },
  {
   "cell_type": "code",
   "execution_count": 33,
   "id": "2dfe2404",
   "metadata": {
    "id": "Ea_hMtyGmYBU",
    "outputId": "540b5d81-ad25-4408-927f-0919887a8100"
   },
   "outputs": [
    {
     "data": {
      "text/html": [
       "<div>\n",
       "<style scoped>\n",
       "    .dataframe tbody tr th:only-of-type {\n",
       "        vertical-align: middle;\n",
       "    }\n",
       "\n",
       "    .dataframe tbody tr th {\n",
       "        vertical-align: top;\n",
       "    }\n",
       "\n",
       "    .dataframe thead th {\n",
       "        text-align: right;\n",
       "    }\n",
       "</style>\n",
       "<table border=\"1\" class=\"dataframe\">\n",
       "  <thead>\n",
       "    <tr style=\"text-align: right;\">\n",
       "      <th></th>\n",
       "      <th>city</th>\n",
       "      <th>Temperature</th>\n",
       "    </tr>\n",
       "  </thead>\n",
       "  <tbody>\n",
       "    <tr>\n",
       "      <th>1</th>\n",
       "      <td>Coimbatore</td>\n",
       "      <td>35</td>\n",
       "    </tr>\n",
       "    <tr>\n",
       "      <th>2</th>\n",
       "      <td>Srirangam</td>\n",
       "      <td>36</td>\n",
       "    </tr>\n",
       "    <tr>\n",
       "      <th>3</th>\n",
       "      <td>Pondicherry</td>\n",
       "      <td>39</td>\n",
       "    </tr>\n",
       "  </tbody>\n",
       "</table>\n",
       "</div>"
      ],
      "text/plain": [
       "          city  Temperature\n",
       "1   Coimbatore           35\n",
       "2    Srirangam           36\n",
       "3  Pondicherry           39"
      ]
     },
     "execution_count": 33,
     "metadata": {},
     "output_type": "execute_result"
    }
   ],
   "source": [
    "\n",
    "d3[d3[\"Temperature\"] >= 35]\n",
    "\n"
   ]
  },
  {
   "cell_type": "markdown",
   "id": "fd696ea2",
   "metadata": {
    "id": "BrYscXpWmYBU"
   },
   "source": [
    "## Applying functions to columns and creating new columns"
   ]
  },
  {
   "cell_type": "markdown",
   "id": "edc77ce5",
   "metadata": {
    "id": "7Z4ioDxtmYBU"
   },
   "source": [
    "We need to create another column in d3, which contains  a boolean value for each city to indicate whether it's a union territory or not. \n",
    " HINT: Chandigarh, Pondicherry and Delhi are only 3 union territories here. \n"
   ]
  },
  {
   "cell_type": "code",
   "execution_count": 34,
   "id": "50c00827",
   "metadata": {
    "id": "FR2wgv6tmYBU"
   },
   "outputs": [
    {
     "name": "stdout",
     "output_type": "stream",
     "text": [
      "          city  Temperature  is_ut\n",
      "0   Chandigarh           15   True\n",
      "1        Delhi           22   True\n",
      "2       Kanpur           20  False\n",
      "3      Chennai           26  False\n",
      "4       Manali           -2  False\n",
      "0    Bengalaru           24  False\n",
      "1   Coimbatore           35  False\n",
      "2    Srirangam           36  False\n",
      "3  Pondicherry           39   True\n"
     ]
    }
   ],
   "source": [
    "# write function here\n",
    "\n",
    "def is_ut(city):\n",
    "    if city in ['Chandigarh', 'Pondicherry', 'Delhi']:\n",
    "        return True\n",
    "    else:\n",
    "        return False\n",
    "    \n",
    "d3['is_ut'] = d3['city'].apply(is_ut)\n",
    "\n",
    "print(d3)"
   ]
  },
  {
   "cell_type": "code",
   "execution_count": 35,
   "id": "1bf08673",
   "metadata": {
    "id": "0hd7QjComYBU",
    "outputId": "8a788eef-b933-48b0-d1f0-fdaa5b25d102"
   },
   "outputs": [],
   "source": [
    "#print(d3)\n"
   ]
  },
  {
   "cell_type": "markdown",
   "id": "cd981d04",
   "metadata": {
    "id": "z88YETlMmYBU"
   },
   "source": [
    "The temperatures mentioned in ‘Temperature’ column are mentioned in Celsius, we need another column which contains the same in Fahrenheit. "
   ]
  },
  {
   "cell_type": "markdown",
   "id": "bf64d9c7",
   "metadata": {
    "id": "ywp07m-xmYBU"
   },
   "source": [
    "HINT - \n",
    "- Define a function c_to_f which takes input temp in celsius and returns a value with temperature in Fahrenheit.\n",
    "- To check: c_to_f(10) should return 50. \n"
   ]
  },
  {
   "cell_type": "code",
   "execution_count": 36,
   "id": "52e29060",
   "metadata": {
    "id": "V0x_0IAAmYBV"
   },
   "outputs": [
    {
     "data": {
      "text/html": [
       "<div>\n",
       "<style scoped>\n",
       "    .dataframe tbody tr th:only-of-type {\n",
       "        vertical-align: middle;\n",
       "    }\n",
       "\n",
       "    .dataframe tbody tr th {\n",
       "        vertical-align: top;\n",
       "    }\n",
       "\n",
       "    .dataframe thead th {\n",
       "        text-align: right;\n",
       "    }\n",
       "</style>\n",
       "<table border=\"1\" class=\"dataframe\">\n",
       "  <thead>\n",
       "    <tr style=\"text-align: right;\">\n",
       "      <th></th>\n",
       "      <th>city</th>\n",
       "      <th>Temperature</th>\n",
       "      <th>is_ut</th>\n",
       "    </tr>\n",
       "  </thead>\n",
       "  <tbody>\n",
       "    <tr>\n",
       "      <th>0</th>\n",
       "      <td>Chandigarh</td>\n",
       "      <td>15</td>\n",
       "      <td>True</td>\n",
       "    </tr>\n",
       "    <tr>\n",
       "      <th>1</th>\n",
       "      <td>Delhi</td>\n",
       "      <td>22</td>\n",
       "      <td>True</td>\n",
       "    </tr>\n",
       "    <tr>\n",
       "      <th>2</th>\n",
       "      <td>Kanpur</td>\n",
       "      <td>20</td>\n",
       "      <td>False</td>\n",
       "    </tr>\n",
       "    <tr>\n",
       "      <th>3</th>\n",
       "      <td>Chennai</td>\n",
       "      <td>26</td>\n",
       "      <td>False</td>\n",
       "    </tr>\n",
       "    <tr>\n",
       "      <th>4</th>\n",
       "      <td>Manali</td>\n",
       "      <td>-2</td>\n",
       "      <td>False</td>\n",
       "    </tr>\n",
       "    <tr>\n",
       "      <th>0</th>\n",
       "      <td>Bengalaru</td>\n",
       "      <td>24</td>\n",
       "      <td>False</td>\n",
       "    </tr>\n",
       "    <tr>\n",
       "      <th>1</th>\n",
       "      <td>Coimbatore</td>\n",
       "      <td>35</td>\n",
       "      <td>False</td>\n",
       "    </tr>\n",
       "    <tr>\n",
       "      <th>2</th>\n",
       "      <td>Srirangam</td>\n",
       "      <td>36</td>\n",
       "      <td>False</td>\n",
       "    </tr>\n",
       "    <tr>\n",
       "      <th>3</th>\n",
       "      <td>Pondicherry</td>\n",
       "      <td>39</td>\n",
       "      <td>True</td>\n",
       "    </tr>\n",
       "  </tbody>\n",
       "</table>\n",
       "</div>"
      ],
      "text/plain": [
       "          city  Temperature  is_ut\n",
       "0   Chandigarh           15   True\n",
       "1        Delhi           22   True\n",
       "2       Kanpur           20  False\n",
       "3      Chennai           26  False\n",
       "4       Manali           -2  False\n",
       "0    Bengalaru           24  False\n",
       "1   Coimbatore           35  False\n",
       "2    Srirangam           36  False\n",
       "3  Pondicherry           39   True"
      ]
     },
     "execution_count": 36,
     "metadata": {},
     "output_type": "execute_result"
    }
   ],
   "source": [
    "# write function here\n",
    "def c_to_f(Temperature):\n",
    "    temp_fahrenheit = (9/5) * Temperature + 32\n",
    "    return temp_fahrenheit\n",
    "    #print(str(Temperature) +\" celsius is \" + str(temp_fahrenheit) + \" in Fahrenheit\" )\n",
    "\n",
    "c_to_f(10)\n",
    "\n",
    "\n",
    "d3"
   ]
  },
  {
   "cell_type": "code",
   "execution_count": 37,
   "id": "82200105",
   "metadata": {
    "id": "Wc9meranmYBV",
    "outputId": "d83f0f45-482d-48a6-9226-2ea5ccac4e55"
   },
   "outputs": [],
   "source": [
    "# check function c_to_f(10)\n",
    "\n",
    "\n"
   ]
  },
  {
   "cell_type": "code",
   "execution_count": 38,
   "id": "011e836e",
   "metadata": {
    "id": "H79GUcoImYBV",
    "outputId": "834607ff-0221-45b5-d5b0-64b13a3acdfa"
   },
   "outputs": [
    {
     "data": {
      "text/html": [
       "<div>\n",
       "<style scoped>\n",
       "    .dataframe tbody tr th:only-of-type {\n",
       "        vertical-align: middle;\n",
       "    }\n",
       "\n",
       "    .dataframe tbody tr th {\n",
       "        vertical-align: top;\n",
       "    }\n",
       "\n",
       "    .dataframe thead th {\n",
       "        text-align: right;\n",
       "    }\n",
       "</style>\n",
       "<table border=\"1\" class=\"dataframe\">\n",
       "  <thead>\n",
       "    <tr style=\"text-align: right;\">\n",
       "      <th></th>\n",
       "      <th>city</th>\n",
       "      <th>Temperature</th>\n",
       "      <th>is_ut</th>\n",
       "      <th>temp_fahrenheit</th>\n",
       "    </tr>\n",
       "  </thead>\n",
       "  <tbody>\n",
       "    <tr>\n",
       "      <th>0</th>\n",
       "      <td>Chandigarh</td>\n",
       "      <td>15</td>\n",
       "      <td>True</td>\n",
       "      <td>59.0</td>\n",
       "    </tr>\n",
       "    <tr>\n",
       "      <th>1</th>\n",
       "      <td>Delhi</td>\n",
       "      <td>22</td>\n",
       "      <td>True</td>\n",
       "      <td>71.6</td>\n",
       "    </tr>\n",
       "    <tr>\n",
       "      <th>2</th>\n",
       "      <td>Kanpur</td>\n",
       "      <td>20</td>\n",
       "      <td>False</td>\n",
       "      <td>68.0</td>\n",
       "    </tr>\n",
       "    <tr>\n",
       "      <th>3</th>\n",
       "      <td>Chennai</td>\n",
       "      <td>26</td>\n",
       "      <td>False</td>\n",
       "      <td>78.8</td>\n",
       "    </tr>\n",
       "    <tr>\n",
       "      <th>4</th>\n",
       "      <td>Manali</td>\n",
       "      <td>-2</td>\n",
       "      <td>False</td>\n",
       "      <td>28.4</td>\n",
       "    </tr>\n",
       "    <tr>\n",
       "      <th>0</th>\n",
       "      <td>Bengalaru</td>\n",
       "      <td>24</td>\n",
       "      <td>False</td>\n",
       "      <td>75.2</td>\n",
       "    </tr>\n",
       "    <tr>\n",
       "      <th>1</th>\n",
       "      <td>Coimbatore</td>\n",
       "      <td>35</td>\n",
       "      <td>False</td>\n",
       "      <td>95.0</td>\n",
       "    </tr>\n",
       "    <tr>\n",
       "      <th>2</th>\n",
       "      <td>Srirangam</td>\n",
       "      <td>36</td>\n",
       "      <td>False</td>\n",
       "      <td>96.8</td>\n",
       "    </tr>\n",
       "    <tr>\n",
       "      <th>3</th>\n",
       "      <td>Pondicherry</td>\n",
       "      <td>39</td>\n",
       "      <td>True</td>\n",
       "      <td>102.2</td>\n",
       "    </tr>\n",
       "  </tbody>\n",
       "</table>\n",
       "</div>"
      ],
      "text/plain": [
       "          city  Temperature  is_ut  temp_fahrenheit\n",
       "0   Chandigarh           15   True             59.0\n",
       "1        Delhi           22   True             71.6\n",
       "2       Kanpur           20  False             68.0\n",
       "3      Chennai           26  False             78.8\n",
       "4       Manali           -2  False             28.4\n",
       "0    Bengalaru           24  False             75.2\n",
       "1   Coimbatore           35  False             95.0\n",
       "2    Srirangam           36  False             96.8\n",
       "3  Pondicherry           39   True            102.2"
      ]
     },
     "execution_count": 38,
     "metadata": {},
     "output_type": "execute_result"
    }
   ],
   "source": [
    "# apply function c_to_f to d3 to create a column 'temp_farenhiet'\n",
    "d3[\"temp_fahrenheit\"] = d3['Temperature'].apply(c_to_f)\n",
    "d3"
   ]
  },
  {
   "cell_type": "markdown",
   "id": "f28c21ca",
   "metadata": {
    "id": "Wj0p6JKHmYBV"
   },
   "source": [
    "## Indexing and selecting rows in DataFrame"
   ]
  },
  {
   "cell_type": "markdown",
   "id": "d5037831",
   "metadata": {
    "id": "fFitRJy2mYBV"
   },
   "source": [
    "Select subset of the dataframe d1 such that it contains the cities which are union territories."
   ]
  },
  {
   "cell_type": "code",
   "execution_count": 39,
   "id": "fda89d38",
   "metadata": {
    "id": "Kg8OSVz0mYBV",
    "outputId": "686083a4-3b1f-4c7d-8fb8-d26aac318e52"
   },
   "outputs": [
    {
     "name": "stdout",
     "output_type": "stream",
     "text": [
      "0     Chandigarh\n",
      "1          Delhi\n",
      "3    Pondicherry\n",
      "Name: city, dtype: object\n"
     ]
    }
   ],
   "source": [
    "# Assuming 'is_ut' is a column indicating whether a city is a union territory in DataFrame d1\n",
    "union_territories = d3[d3['is_ut']]['city']\n",
    "\n",
    "print(union_territories)\n",
    "\n"
   ]
  },
  {
   "cell_type": "markdown",
   "id": "125c9fb4",
   "metadata": {
    "id": "XnxQl4ZPmYBV"
   },
   "source": [
    "Select a subset of the dataframe d1 such that it contains the cities which only have temperature above 90 Farenhiet."
   ]
  },
  {
   "cell_type": "code",
   "execution_count": 40,
   "id": "23a35b6d",
   "metadata": {
    "id": "9o62VSn7mYBV",
    "outputId": "0cf73a78-2dfc-4be7-9bea-43fd0318b657"
   },
   "outputs": [
    {
     "data": {
      "text/plain": [
       "1     Coimbatore\n",
       "2      Srirangam\n",
       "3    Pondicherry\n",
       "Name: city, dtype: object"
      ]
     },
     "execution_count": 40,
     "metadata": {},
     "output_type": "execute_result"
    }
   ],
   "source": [
    "Temp_90 = d3[d3['temp_fahrenheit']>90]['city']\n",
    "\n",
    "Temp_90\n"
   ]
  },
  {
   "cell_type": "markdown",
   "id": "94cc006d",
   "metadata": {
    "id": "IQq7K2EtmYBW"
   },
   "source": [
    "Select only the first three rows of the dataframe d1. \n"
   ]
  },
  {
   "cell_type": "code",
   "execution_count": 41,
   "id": "b9f1a438",
   "metadata": {
    "id": "PlmVOyAAmYBW",
    "outputId": "2c1d6ad5-1e08-4f31-d0c0-c1fbf8289d32"
   },
   "outputs": [
    {
     "data": {
      "text/html": [
       "<div>\n",
       "<style scoped>\n",
       "    .dataframe tbody tr th:only-of-type {\n",
       "        vertical-align: middle;\n",
       "    }\n",
       "\n",
       "    .dataframe tbody tr th {\n",
       "        vertical-align: top;\n",
       "    }\n",
       "\n",
       "    .dataframe thead th {\n",
       "        text-align: right;\n",
       "    }\n",
       "</style>\n",
       "<table border=\"1\" class=\"dataframe\">\n",
       "  <thead>\n",
       "    <tr style=\"text-align: right;\">\n",
       "      <th></th>\n",
       "      <th>city</th>\n",
       "      <th>Temperature</th>\n",
       "      <th>is_ut</th>\n",
       "      <th>temp_fahrenheit</th>\n",
       "    </tr>\n",
       "  </thead>\n",
       "  <tbody>\n",
       "    <tr>\n",
       "      <th>0</th>\n",
       "      <td>Chandigarh</td>\n",
       "      <td>15</td>\n",
       "      <td>True</td>\n",
       "      <td>59.0</td>\n",
       "    </tr>\n",
       "    <tr>\n",
       "      <th>1</th>\n",
       "      <td>Delhi</td>\n",
       "      <td>22</td>\n",
       "      <td>True</td>\n",
       "      <td>71.6</td>\n",
       "    </tr>\n",
       "    <tr>\n",
       "      <th>2</th>\n",
       "      <td>Kanpur</td>\n",
       "      <td>20</td>\n",
       "      <td>False</td>\n",
       "      <td>68.0</td>\n",
       "    </tr>\n",
       "  </tbody>\n",
       "</table>\n",
       "</div>"
      ],
      "text/plain": [
       "         city  Temperature  is_ut  temp_fahrenheit\n",
       "0  Chandigarh           15   True             59.0\n",
       "1       Delhi           22   True             71.6\n",
       "2      Kanpur           20  False             68.0"
      ]
     },
     "execution_count": 41,
     "metadata": {},
     "output_type": "execute_result"
    }
   ],
   "source": [
    "d3.head(3)"
   ]
  },
  {
   "cell_type": "markdown",
   "id": "38bcae35",
   "metadata": {
    "id": "MKNIbwW2mYBW"
   },
   "source": [
    "Select all the rows and last two columns in the dataframe.\n",
    "\n",
    "\n"
   ]
  },
  {
   "cell_type": "code",
   "execution_count": 42,
   "id": "72150b35",
   "metadata": {
    "id": "WfQasVJImYBW",
    "outputId": "c157a66e-61b9-4a9a-e7f1-6ee392ccfe3a"
   },
   "outputs": [
    {
     "data": {
      "text/html": [
       "<div>\n",
       "<style scoped>\n",
       "    .dataframe tbody tr th:only-of-type {\n",
       "        vertical-align: middle;\n",
       "    }\n",
       "\n",
       "    .dataframe tbody tr th {\n",
       "        vertical-align: top;\n",
       "    }\n",
       "\n",
       "    .dataframe thead th {\n",
       "        text-align: right;\n",
       "    }\n",
       "</style>\n",
       "<table border=\"1\" class=\"dataframe\">\n",
       "  <thead>\n",
       "    <tr style=\"text-align: right;\">\n",
       "      <th></th>\n",
       "      <th>is_ut</th>\n",
       "      <th>temp_fahrenheit</th>\n",
       "    </tr>\n",
       "  </thead>\n",
       "  <tbody>\n",
       "    <tr>\n",
       "      <th>0</th>\n",
       "      <td>True</td>\n",
       "      <td>59.0</td>\n",
       "    </tr>\n",
       "    <tr>\n",
       "      <th>1</th>\n",
       "      <td>True</td>\n",
       "      <td>71.6</td>\n",
       "    </tr>\n",
       "    <tr>\n",
       "      <th>2</th>\n",
       "      <td>False</td>\n",
       "      <td>68.0</td>\n",
       "    </tr>\n",
       "    <tr>\n",
       "      <th>3</th>\n",
       "      <td>False</td>\n",
       "      <td>78.8</td>\n",
       "    </tr>\n",
       "    <tr>\n",
       "      <th>4</th>\n",
       "      <td>False</td>\n",
       "      <td>28.4</td>\n",
       "    </tr>\n",
       "    <tr>\n",
       "      <th>0</th>\n",
       "      <td>False</td>\n",
       "      <td>75.2</td>\n",
       "    </tr>\n",
       "    <tr>\n",
       "      <th>1</th>\n",
       "      <td>False</td>\n",
       "      <td>95.0</td>\n",
       "    </tr>\n",
       "    <tr>\n",
       "      <th>2</th>\n",
       "      <td>False</td>\n",
       "      <td>96.8</td>\n",
       "    </tr>\n",
       "    <tr>\n",
       "      <th>3</th>\n",
       "      <td>True</td>\n",
       "      <td>102.2</td>\n",
       "    </tr>\n",
       "  </tbody>\n",
       "</table>\n",
       "</div>"
      ],
      "text/plain": [
       "   is_ut  temp_fahrenheit\n",
       "0   True             59.0\n",
       "1   True             71.6\n",
       "2  False             68.0\n",
       "3  False             78.8\n",
       "4  False             28.4\n",
       "0  False             75.2\n",
       "1  False             95.0\n",
       "2  False             96.8\n",
       "3   True            102.2"
      ]
     },
     "execution_count": 42,
     "metadata": {},
     "output_type": "execute_result"
    }
   ],
   "source": [
    "d3.iloc[:, -2:]"
   ]
  },
  {
   "cell_type": "markdown",
   "id": "402d0fbc",
   "metadata": {
    "id": "LQ9xspkHmYBW"
   },
   "source": [
    "## Groupby"
   ]
  },
  {
   "cell_type": "code",
   "execution_count": 43,
   "id": "c4fb0c92",
   "metadata": {},
   "outputs": [],
   "source": [
    "# Create a dataframe using dictionary of your choice\n",
    "\n",
    " \n",
    "data = {\n",
    "    'Name': ['John', 'Alice', 'Bob', 'Emily', 'Michael', 'Sophia'],\n",
    "    'Age': [25, 30, 25, 40, 35, 30],\n",
    "    'City': ['New York', 'Los Angeles', 'Chicago', 'San Francisco', 'New York', 'Los Angeles'],\n",
    "    'Salary': [50000, 60000, 55000, 70000, 65000, 60000]\n",
    "}\n",
    "df = pd.DataFrame(data)\n",
    "\n"
   ]
  },
  {
   "cell_type": "code",
   "execution_count": 44,
   "id": "5c713dfc",
   "metadata": {},
   "outputs": [
    {
     "name": "stdout",
     "output_type": "stream",
     "text": [
      "            Name                    City  Salary\n",
      "Age                                             \n",
      "25       JohnBob         New YorkChicago  105000\n",
      "30   AliceSophia  Los AngelesLos Angeles  120000\n",
      "35       Michael                New York   65000\n",
      "40         Emily           San Francisco   70000\n"
     ]
    }
   ],
   "source": [
    "# Use Groupby of single column with aggregate sum()\n",
    "agg_sum = df.groupby('Age').sum()\n",
    "print(agg_sum)"
   ]
  },
  {
   "cell_type": "code",
   "execution_count": 45,
   "id": "04aee49b",
   "metadata": {},
   "outputs": [
    {
     "name": "stdout",
     "output_type": "stream",
     "text": [
      "     Name  City  Salary\n",
      "Age                    \n",
      "25      2     2       2\n",
      "30      2     2       2\n",
      "35      1     1       1\n",
      "40      1     1       1\n"
     ]
    }
   ],
   "source": [
    "# Use Groupby of single column with aggregate count()\n",
    "\n",
    "agg_count = df.groupby('Age').count()\n",
    "\n",
    "print(agg_count)"
   ]
  },
  {
   "cell_type": "code",
   "execution_count": 46,
   "id": "7ac3782c",
   "metadata": {},
   "outputs": [
    {
     "name": "stdout",
     "output_type": "stream",
     "text": [
      "        Name           City  Salary\n",
      "Age                                \n",
      "25      John       New York   55000\n",
      "30    Sophia    Los Angeles   60000\n",
      "35   Michael       New York   65000\n",
      "40     Emily  San Francisco   70000\n"
     ]
    }
   ],
   "source": [
    "# Use Groupby of single column with aggregate min() and max()\n",
    "min_age = df.groupby('Age').min()\n",
    "\n",
    "#print(min_age)\n",
    "max_age = df.groupby('Age').max()\n",
    "\n",
    "print(max_age)"
   ]
  },
  {
   "cell_type": "code",
   "execution_count": null,
   "id": "d3ef8275",
   "metadata": {},
   "outputs": [],
   "source": []
  },
  {
   "cell_type": "code",
   "execution_count": 48,
   "id": "e5cdc772",
   "metadata": {},
   "outputs": [
    {
     "name": "stdout",
     "output_type": "stream",
     "text": [
      "Empty DataFrame\n",
      "Columns: []\n",
      "Index: [(25, 50000), (25, 55000), (30, 60000), (35, 65000), (40, 70000)]\n"
     ]
    }
   ],
   "source": [
    "# Use Groupby of any 2 columns with aggregate mean()\n",
    "\n",
    "agg_mean = df.groupby(['Age', 'Salary']).mean(numeric_only=True)\n",
    "\n",
    "print(agg_mean)\n"
   ]
  },
  {
   "cell_type": "code",
   "execution_count": null,
   "id": "23759514",
   "metadata": {},
   "outputs": [],
   "source": [
    "# Use Groupby of any 2 columns with aggregate min() and max()\n",
    "\n",
    "agg_min = df.groupby(['Age', 'City']).min()\n",
    "\n",
    "print(agg_min)\n"
   ]
  },
  {
   "cell_type": "code",
   "execution_count": null,
   "id": "744741c4",
   "metadata": {},
   "outputs": [],
   "source": [
    "agg_max = df.groupby(['Age', 'City']).max()\n",
    "\n",
    "print(agg_max)"
   ]
  },
  {
   "cell_type": "markdown",
   "id": "60f08db5",
   "metadata": {
    "id": "goEgED0xmYBY"
   },
   "source": [
    "## Data Range"
   ]
  },
  {
   "cell_type": "markdown",
   "id": "2704a210",
   "metadata": {
    "id": "jJOxVdLemYBY"
   },
   "source": [
    "Create a pandas daterange where starting date is 1st of January,2020 and end date is 1st of April 2021, store it in a new variable named 'a'"
   ]
  },
  {
   "cell_type": "code",
   "execution_count": 49,
   "id": "3828cd85",
   "metadata": {
    "id": "Nvx8f5GTmYBZ"
   },
   "outputs": [],
   "source": [
    "a = pd.date_range(start='2020-01-01', end='2021-04-01')\n",
    "\n",
    "\n"
   ]
  },
  {
   "cell_type": "markdown",
   "id": "a2ce1058",
   "metadata": {
    "id": "ybvAMVSzmYBZ"
   },
   "source": [
    "print a"
   ]
  },
  {
   "cell_type": "code",
   "execution_count": 50,
   "id": "651f46a5",
   "metadata": {
    "id": "TOe-Alj8mYBZ",
    "outputId": "a0e830f7-6826-4082-98c4-cc02bcfe43f3"
   },
   "outputs": [
    {
     "name": "stdout",
     "output_type": "stream",
     "text": [
      "DatetimeIndex(['2020-01-01', '2020-01-02', '2020-01-03', '2020-01-04',\n",
      "               '2020-01-05', '2020-01-06', '2020-01-07', '2020-01-08',\n",
      "               '2020-01-09', '2020-01-10',\n",
      "               ...\n",
      "               '2021-03-23', '2021-03-24', '2021-03-25', '2021-03-26',\n",
      "               '2021-03-27', '2021-03-28', '2021-03-29', '2021-03-30',\n",
      "               '2021-03-31', '2021-04-01'],\n",
      "              dtype='datetime64[ns]', length=457, freq='D')\n"
     ]
    }
   ],
   "source": [
    "print(a)\n",
    "\n"
   ]
  },
  {
   "cell_type": "markdown",
   "id": "01390e96",
   "metadata": {
    "id": "vI1gctGmmYBZ"
   },
   "source": [
    "What is the len of a?"
   ]
  },
  {
   "cell_type": "code",
   "execution_count": 51,
   "id": "87a96b3b",
   "metadata": {
    "id": "D66uR7vDmYBZ",
    "outputId": "c3fcbc58-7b57-4cf8-bc44-85303b525c6e"
   },
   "outputs": [
    {
     "data": {
      "text/plain": [
       "457"
      ]
     },
     "execution_count": 51,
     "metadata": {},
     "output_type": "execute_result"
    }
   ],
   "source": [
    "len(a)\n",
    "\n"
   ]
  },
  {
   "cell_type": "markdown",
   "id": "5b35649c",
   "metadata": {
    "id": "MQvcL-SImYBZ"
   },
   "source": [
    "What is the type of a?"
   ]
  },
  {
   "cell_type": "code",
   "execution_count": 53,
   "id": "3b36bda0",
   "metadata": {
    "id": "cnb8Z0CXmYBZ",
    "outputId": "a72dc4cd-5225-4098-8084-900f69caeb81"
   },
   "outputs": [
    {
     "data": {
      "text/plain": [
       "pandas.core.indexes.datetimes.DatetimeIndex"
      ]
     },
     "execution_count": 53,
     "metadata": {},
     "output_type": "execute_result"
    }
   ],
   "source": [
    "type(a)\n",
    "\n",
    "\n"
   ]
  },
  {
   "cell_type": "code",
   "execution_count": null,
   "id": "87bb328b",
   "metadata": {},
   "outputs": [],
   "source": []
  }
 ],
 "metadata": {
  "colab": {
   "collapsed_sections": [],
   "provenance": []
  },
  "kernelspec": {
   "display_name": "Python 3 (ipykernel)",
   "language": "python",
   "name": "python3"
  },
  "language_info": {
   "codemirror_mode": {
    "name": "ipython",
    "version": 3
   },
   "file_extension": ".py",
   "mimetype": "text/x-python",
   "name": "python",
   "nbconvert_exporter": "python",
   "pygments_lexer": "ipython3",
   "version": "3.11.5"
  }
 },
 "nbformat": 4,
 "nbformat_minor": 5
}
